{
 "cells": [
  {
   "cell_type": "code",
   "execution_count": 1,
   "metadata": {
    "collapsed": false
   },
   "outputs": [
    {
     "name": "stdout",
     "output_type": "stream",
     "text": [
      "[1 1] * [0 2] = [0 2]\n",
      "[1 1] + [0 2] = [1 3]\n"
     ]
    }
   ],
   "source": [
    "# basic ndarray class\n",
    "import numpy as np\n",
    "vec1 = np.array([1,1])\n",
    "vec2 = np.array([0,2])\n",
    "print vec1, '*', vec2, '=', vec1*vec2\n",
    "print vec1, '+', vec2, '=', vec1+vec2\n",
    "\n"
   ]
  },
  {
   "cell_type": "code",
   "execution_count": 20,
   "metadata": {
    "collapsed": false
   },
   "outputs": [
    {
     "name": "stdout",
     "output_type": "stream",
     "text": [
      "2 (2, 2) 4 int64\n",
      "[[1 0 0 2]]\n",
      "[[1 0]\n",
      " [0 2]] after reshape is\n",
      "[[1 0]\n",
      " [0 2]]\n",
      "[[1 0]\n",
      " [0 2]] after resize is [[1 0 0 2]]\n"
     ]
    }
   ],
   "source": [
    "#shape and size\n",
    "A = np.array([ [1,0], [0,2] ])\n",
    "print A.ndim, A.shape, A.size, A.dtype\n",
    "\n",
    "B = A.reshape([1,4])\n",
    "print B\n",
    "A.reshape([1,4])\n",
    "print A,'after reshape is\\n', A\n",
    "\n",
    "\n",
    "A = np.array([ [1,0], [0,2] ])\n",
    "print A,'after resize is',\n",
    "A.resize([1,4])\n",
    "print A"
   ]
  },
  {
   "cell_type": "code",
   "execution_count": 24,
   "metadata": {
    "collapsed": false
   },
   "outputs": [
    {
     "name": "stdout",
     "output_type": "stream",
     "text": [
      "[[ 0.  0.  0.  0.]\n",
      " [ 0.  0.  0.  0.]\n",
      " [ 0.  0.  0.  0.]]\n",
      "[[ 1.  0.  0.  0.]\n",
      " [ 0.  0.  0.  0.]\n",
      " [ 0.  0.  0.  0.]]\n"
     ]
    }
   ],
   "source": [
    "#create\n",
    "mat3_4 = np.zeros([3,4])\n",
    "print mat3_4\n",
    "\n",
    "mat3_4[0][0]=1\n",
    "print mat3_4"
   ]
  },
  {
   "cell_type": "code",
   "execution_count": 47,
   "metadata": {
    "collapsed": false
   },
   "outputs": [
    {
     "name": "stdout",
     "output_type": "stream",
     "text": [
      "[[  4.17022005e-01   7.20324493e-01]\n",
      " [  1.14374817e-04   3.02332573e-01]]\n",
      "[[2 1]\n",
      " [1 2]]\n",
      "[1 3]\n",
      "[5 7]\n"
     ]
    }
   ],
   "source": [
    "#random\n",
    "np.random.seed(1)\n",
    "a = np.random.random((2,2)) #uniform(0,1)\n",
    "print a\n",
    "a = np.random.randint(1,3,(2,2))\n",
    "print a\n",
    "b = np.array((1,3))\n",
    "print b\n",
    "c = np.dot(a,b)\n",
    "print c\n",
    "#other random"
   ]
  },
  {
   "cell_type": "code",
   "execution_count": 48,
   "metadata": {
    "collapsed": false
   },
   "outputs": [
    {
     "name": "stdout",
     "output_type": "stream",
     "text": [
      "[ 0.   0.1  0.2  0.3  0.4  0.5  0.6  0.7  0.8  0.9  1. ]\n"
     ]
    }
   ],
   "source": [
    "print np.linspace(0,1,11)  #uniformly interpolate "
   ]
  },
  {
   "cell_type": "code",
   "execution_count": 50,
   "metadata": {
    "collapsed": false
   },
   "outputs": [
    {
     "name": "stdout",
     "output_type": "stream",
     "text": [
      "12\n"
     ]
    }
   ],
   "source": [
    "print c.sum()\n",
    "print c.sum(axi)"
   ]
  },
  {
   "cell_type": "code",
   "execution_count": null,
   "metadata": {
    "collapsed": true
   },
   "outputs": [],
   "source": []
  }
 ],
 "metadata": {
  "kernelspec": {
   "display_name": "Python [Root]",
   "language": "python",
   "name": "Python [Root]"
  },
  "language_info": {
   "codemirror_mode": {
    "name": "ipython",
    "version": 2
   },
   "file_extension": ".py",
   "mimetype": "text/x-python",
   "name": "python",
   "nbconvert_exporter": "python",
   "pygments_lexer": "ipython2",
   "version": "2.7.12"
  }
 },
 "nbformat": 4,
 "nbformat_minor": 0
}
