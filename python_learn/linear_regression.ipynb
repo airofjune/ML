{
 "cells": [
  {
   "cell_type": "code",
   "execution_count": 2,
   "metadata": {
    "collapsed": false
   },
   "outputs": [],
   "source": [
    "'''\n",
    "linear regression\n",
    "using a linear model y=w'x to approximate a function given by input and label.\n",
    "from probability view, MSE is to maximum the likelihood of the distribution y = w'x + norm(u,d)\n",
    "'''\n",
    "\n",
    "import numpy as np\n",
    "from matplotlib import pyplot as plt\n",
    "\n",
    "def linear_func(input_matrix):\n",
    "    \n",
    "    '''\n",
    "    input_matrix is a numpy tensor of data_size*feature_dim\n",
    "    func is function taken input_matrix\n",
    "    '''\n",
    "    \n",
    "    assert type(input_matrix) is np.ndarray\n",
    "    assert len(input_matrix.shape) is 2\n",
    "   \n",
    "    num, dim = input_matrix.shape\n",
    "    \n",
    "    #generate weight vector \n",
    "    w = np.random.random((dim,1))\n",
    "    return np.dot(input_matrix, w)\n",
    "\n",
    "\n",
    "#now only support dim = 1\n",
    "def get_dataset(pt_cnt, dim):\n",
    "    assert dim is 1\n",
    "    \n",
    "    #generate X\n",
    "    #X = np.random.random((pt_cnt, dim))*10\n",
    "    X = np.linspace(-1,7, pt_cnt)\n",
    "    X.resize(pt_cnt, 1)\n",
    "    \n",
    "    #generate y = f(x) + random\n",
    "    u = 1\n",
    "    d = 0.1\n",
    "    err = u + d * np.random.random((pt_cnt, 1))\n",
    "    \n",
    "    #Y = linear_func(X) + err\n",
    "    Y = np.sin(X) + err\n",
    "    return X,Y\n",
    "\n",
    "\n",
    "def add_intercept(X):\n",
    "    # X_new = [1,X]\n",
    "    assert type(X) is np.ndarray\n",
    "    assert len(X.shape) is 2\n",
    "    \n",
    "    num, dim = X.shape\n",
    "    X_new = np.zeros((num, dim+1))\n",
    "    X_new[:,0] = 1\n",
    "    X_new[:,1:] = X\n",
    "    return X_new\n",
    "\n",
    "\n",
    "def add_xn(X, deg):\n",
    "    #X_new = [1, X, XX, ... X^n]\n",
    "    assert type(X) is np.ndarray\n",
    "    assert len(X.shape) is 2\n",
    "    assert type(deg) is int\n",
    "    assert deg > 0\n",
    "    \n",
    "    num, dim = X.shape\n",
    "    assert dim is 1\n",
    "    \n",
    "    X_new = np.zeros((num, deg))\n",
    "    for i in range(deg):\n",
    "        X_new[:,i] = X[:,0]**i\n",
    "    return X_new\n",
    "\n",
    "#linear regression model\n",
    "\n",
    "'''\n",
    "#1 CLOSE FORM OF MINIMUM\n",
    "\n",
    "input X with size m*n, [x1'; x2'; ...; xm'], m samples of n dimensions/features;\n",
    "label Y = [y1,y2, ..., ym]'; weight w = [w1,w2, ..., wm]';\n",
    "\n",
    "define cost function:\n",
    "min square error = 0.5*sum(f(wx)-y) = 0.5*(Xw-Y)'(Xw-Y), 0.5 for simple gradient computation\n",
    "\n",
    "gradient calucation:\n",
    "f=0.5*z'z, df/dz=z', that means df=[z1, z2, ... zm]'*[dz1, dz2, ... dzm]\n",
    "z=Xw-Y, dz/dw=X, that means dz={ X(w+dw)-Y } - {Xw-y} = X*dw\n",
    "df/dw = df/dz * dz/dw = z'X = (Xw-Y)'X\n",
    "optimum at df/dw=0 => w'X'X = Y'X => w = inv(X'X)X'Y\n",
    "\n",
    "#2 IS X'X INVERTIBLE?\n",
    "note, rank(A'A) = rank(A), see AX=0 => A'AX=0, A'AX=0 => X'A'AX=0 => (AX)'(AX)=0 => AX=0\n",
    "so nullilty(A'A) = nullity(A)\n",
    "thus if points are far more than its dimesions size, matrix X alwayas has full column rank and X'X is invertible.\n",
    "'''\n",
    "\n",
    "def opt_linear(X,y):  \n",
    "  \n",
    "    assert type(X) is np.ndarray\n",
    "    assert len(X.shape) is 2\n",
    "\n",
    "    inv = np.linalg.inv( np.dot(np.transpose(X), X))\n",
    "    return inv.dot(np.transpose(X)).dot(y) "
   ]
  },
  {
   "cell_type": "code",
   "execution_count": 7,
   "metadata": {
    "collapsed": false
   },
   "outputs": [
    {
     "name": "stdout",
     "output_type": "stream",
     "text": [
      "det 121610.738255\n"
     ]
    }
   ],
   "source": [
    "#eample 1, line function approximation\n",
    "#get features X and label Y\n",
    "pt_cnt = 150\n",
    "dim = 1\n",
    "X,Y = get_dataset(pt_cnt, dim)\n",
    "\n",
    "#optimize w\n",
    "w = opt_linear(add_intercept(X),Y)\n",
    "\n",
    "#plot predict line\n",
    "X1 = np.linspace(np.min(X), np.max(X),10)\n",
    "X1.resize((10,1))\n",
    "Y1 = add_intercept(X1).dot(w)\n",
    "\n",
    "#plot figure\n",
    "plt.scatter(X,Y,color='blue')\n",
    "plt.plot(X1,Y1,color='red')\n",
    "plt.show()\n"
   ]
  },
  {
   "cell_type": "code",
   "execution_count": 8,
   "metadata": {
    "collapsed": false
   },
   "outputs": [
    {
     "name": "stdout",
     "output_type": "stream",
     "text": [
      "det 2.74779719175e+23\n"
     ]
    }
   ],
   "source": [
    "#example2, polynimial approximation\n",
    "#get features X and label Y\n",
    "pt_cnt = 20\n",
    "dim = 1\n",
    "X,Y = get_dataset(pt_cnt, dim)\n",
    "\n",
    "poly_deg = 7\n",
    "\n",
    "#optimize w\n",
    "w = opt_linear(add_xn(X, poly_deg),Y)\n",
    "\n",
    "#plot predict line\n",
    "draw_pt = 1000\n",
    "X1 = np.linspace(np.min(X), np.max(X),draw_pt)\n",
    "X1.resize((draw_pt,1))\n",
    "Y1 = add_xn(X1, poly_deg).dot(w)\n",
    "\n",
    "#plot figure\n",
    "plt.scatter(X,Y,color='blue')\n",
    "plt.plot(X1,Y1,color='red')\n",
    "plt.show()"
   ]
  },
  {
   "cell_type": "code",
   "execution_count": null,
   "metadata": {
    "collapsed": true
   },
   "outputs": [],
   "source": []
  }
 ],
 "metadata": {
  "kernelspec": {
   "display_name": "Python [Root]",
   "language": "python",
   "name": "Python [Root]"
  },
  "language_info": {
   "codemirror_mode": {
    "name": "ipython",
    "version": 2
   },
   "file_extension": ".py",
   "mimetype": "text/x-python",
   "name": "python",
   "nbconvert_exporter": "python",
   "pygments_lexer": "ipython2",
   "version": "2.7.12"
  }
 },
 "nbformat": 4,
 "nbformat_minor": 0
}
