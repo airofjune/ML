{
 "cells": [
  {
   "cell_type": "code",
   "execution_count": 1,
   "metadata": {
    "collapsed": false
   },
   "outputs": [],
   "source": [
    "###linear regression\n",
    "#using a linear model y=w'x to approximate a function given by input and label.\n",
    "#from probability view, MSE is to maximum the likelihood of the distribution y = w'x + norm(u,d)\n",
    "import numpy as np\n",
    "from matplotlib import pyplot as plt\n",
    "\n",
    "def linear_func(input_matrix):\n",
    "    \n",
    "    '''\n",
    "    input_matrix is a numpy tensor of data_size*feature_dim\n",
    "    func is function taken input_matrix\n",
    "    '''\n",
    "    \n",
    "    assert type(input_matrix) is np.ndarray\n",
    "    assert len(input_matrix.shape) is 2\n",
    "   \n",
    "    num, dim = input_matrix.shape\n",
    "    \n",
    "    #generate weight vector \n",
    "    w = np.random.random((dim,1))\n",
    "\n",
    "    #generate y = Xw + norm(u,d)\n",
    "    u = 1\n",
    "    d = 0.1\n",
    "    err = u + d * np.random.random((num, 1))\n",
    "    return np.dot(input_matrix, w) + err\n",
    "\n",
    "#now only support dim = 1\n",
    "def get_dataset(pt_cnt, dim):\n",
    "    assert dim is 1\n",
    "    X = np.random.random((pt_cnt, dim))\n",
    "    Y = linear_func(X)\n",
    "    return X,Y\n",
    "\n",
    "\n",
    "def add_intercept(X):\n",
    "    # X_new = [1,X]\n",
    "    num, dim = X.shape\n",
    "    X_new = np.zeros((num, dim+1))\n",
    "    X_new[:,0] = 1\n",
    "    X_new[:,1:] = X\n",
    "    return X_new\n",
    "\n",
    "#linear regression model\n",
    "#f=0.5*(Xw-y)'(Xw-y)\n",
    "#df/dw = inv(X'X)X'Y\n",
    "def opt_linear(X0,y):\n",
    "\n",
    "    assert type(X0) is np.ndarray\n",
    "    assert len(X0.shape) is 2\n",
    "\n",
    "    X = add_intercept(X0)\n",
    "    inv = np.linalg.inv( np.dot(np.transpose(X), X))\n",
    "    return inv.dot(np.transpose(X)).dot(y) "
   ]
  },
  {
   "cell_type": "code",
   "execution_count": 4,
   "metadata": {
    "collapsed": false
   },
   "outputs": [
    {
     "name": "stdout",
     "output_type": "stream",
     "text": [
      "weight is -������?��6\u0001H��?\n"
     ]
    }
   ],
   "source": [
    "#get features X and label Y\n",
    "pt_cnt = 120\n",
    "dim = 1\n",
    "X,Y = get_dataset(pt_cnt, dim)\n",
    "\n",
    "#optimize w\n",
    "w = opt_linear(X,Y)\n",
    "print 'weight is'\n",
    "print w.data\n",
    "\n",
    "#plot predict line\n",
    "X1 = np.linspace(np.min(X), np.max(X),10)\n",
    "X1.resize((10,1))\n",
    "Y1 = add_intercept(X1).dot(w)\n",
    "\n",
    "#plot figure\n",
    "plt.scatter(X,Y,color='blue')\n",
    "plt.plot(X1,Y1,color='red')\n",
    "plt.show()\n"
   ]
  }
 ],
 "metadata": {
  "kernelspec": {
   "display_name": "Python [Root]",
   "language": "python",
   "name": "Python [Root]"
  },
  "language_info": {
   "codemirror_mode": {
    "name": "ipython",
    "version": 2
   },
   "file_extension": ".py",
   "mimetype": "text/x-python",
   "name": "python",
   "nbconvert_exporter": "python",
   "pygments_lexer": "ipython2",
   "version": "2.7.12"
  }
 },
 "nbformat": 4,
 "nbformat_minor": 0
}
